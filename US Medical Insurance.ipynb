{
 "cells": [
  {
   "cell_type": "markdown",
   "id": "9f35c219",
   "metadata": {},
   "source": [
    "### U.S. Medical Insurance Costs\n",
    "In this project, a CSV file with medical insurance costs will be investigated using Python fundamentals. The goal with this project will be to analyze various attributes within insurance.csv to learn more about the patient information in the file and gain insight into potential use cases for the dataset."
   ]
  },
  {
   "cell_type": "code",
   "execution_count": 12,
   "id": "96149151",
   "metadata": {},
   "outputs": [],
   "source": [
    "import pandas as pd\n",
    "import numpy as np"
   ]
  },
  {
   "cell_type": "code",
   "execution_count": 13,
   "id": "79f7d85c",
   "metadata": {},
   "outputs": [],
   "source": [
    "medical = pd.read_csv(\"insurance.csv\")"
   ]
  },
  {
   "cell_type": "code",
   "execution_count": 14,
   "id": "10b3f357",
   "metadata": {},
   "outputs": [
    {
     "name": "stdout",
     "output_type": "stream",
     "text": [
      "   ID  age     sex     bmi  children smoker     region      charges\n",
      "0   0   19  female  27.900         0    yes  southwest  16884.92400\n",
      "1   1   18    male  33.770         1     no  southeast   1725.55230\n",
      "2   2   28    male  33.000         3     no  southeast   4449.46200\n",
      "3   3   33    male  22.705         0     no  northwest  21984.47061\n",
      "4   4   32    male  28.880         0     no  northwest   3866.85520\n"
     ]
    }
   ],
   "source": [
    "medical.insert(loc=0, column='ID', value=np.arange(len(medical)))\n",
    "print(medical.head())"
   ]
  },
  {
   "cell_type": "markdown",
   "id": "9d5a5af3",
   "metadata": {},
   "source": [
    "**insurance.csv** contains the following columns:\n",
    "* Patient Age\n",
    "* Patient Sex \n",
    "* Patient BMI\n",
    "* Patient Number of Children\n",
    "* Patient Smoking Status\n",
    "* Patient U.S Geopraphical Region\n",
    "* Patient Yearly Medical Insurance Cost\n",
    "\n",
    "There are no signs of missing data. "
   ]
  },
  {
   "cell_type": "markdown",
   "id": "98d25bdb",
   "metadata": {},
   "source": [
    "I am going to be investigating the differences between male and female patients as well as regional difference in insurance costs. "
   ]
  },
  {
   "cell_type": "code",
   "execution_count": 15,
   "id": "07c6113a",
   "metadata": {},
   "outputs": [
    {
     "name": "stdout",
     "output_type": "stream",
     "text": [
      "The average age of a female patient is \n",
      "39.503021148036254\n",
      "The average age of a male patient is \n",
      "38.917159763313606\n"
     ]
    }
   ],
   "source": [
    "print(\"The average age of a female patient is \")\n",
    "print(np.mean(medical.age[medical.sex == 'female']))\n",
    "print(\"The average age of a male patient is \")\n",
    "print(np.mean(medical.age[medical.sex == 'male']))"
   ]
  },
  {
   "cell_type": "code",
   "execution_count": 16,
   "id": "cd12e3fb",
   "metadata": {},
   "outputs": [
    {
     "name": "stdout",
     "output_type": "stream",
     "text": [
      "The average number of a children for a female patient is \n",
      "1\n",
      "The average number of a children for a male patient is \n",
      "1\n",
      "The average number of children for both female and male patients is 1.\n"
     ]
    }
   ],
   "source": [
    "print(\"The average number of a children for a female patient is \")\n",
    "print(round(np.mean(medical.children[medical.sex == 'female'])))\n",
    "print(\"The average number of a children for a male patient is \")\n",
    "print(round(np.mean(medical.children[medical.sex == 'male'])))\n",
    "print(\"The average number of children for both female and male patients is 1.\")"
   ]
  },
  {
   "cell_type": "code",
   "execution_count": 17,
   "id": "4611cdae",
   "metadata": {},
   "outputs": [
    {
     "name": "stdout",
     "output_type": "stream",
     "text": [
      "      region  counts\n",
      "0  northeast     324\n",
      "1  northwest     325\n",
      "2  southeast     364\n",
      "3  southwest     325\n"
     ]
    }
   ],
   "source": [
    "region_counts = medical.groupby('region').ID.count().reset_index()\n",
    "region_counts = region_counts.rename(columns={\"ID\": \"counts\"})\n",
    "print(region_counts)"
   ]
  },
  {
   "cell_type": "code",
   "execution_count": 18,
   "id": "e353ba2a",
   "metadata": {},
   "outputs": [],
   "source": [
    "northeast_df = medical[medical.region == 'northeast']\n",
    "northwest_df = medical[medical.region == 'northwest']\n",
    "southeast_df = medical[medical.region == 'southeast']\n",
    "southwest_df = medical[medical.region == 'southwest']"
   ]
  },
  {
   "cell_type": "code",
   "execution_count": 19,
   "id": "b01c0451",
   "metadata": {},
   "outputs": [
    {
     "name": "stdout",
     "output_type": "stream",
     "text": [
      "The average medical insurance cost per region is as followed: \n",
      "      region       charges\n",
      "0  northeast  13406.384516\n",
      "1  northwest  12417.575374\n",
      "2  southeast  14735.411438\n",
      "3  southwest  12346.937377\n"
     ]
    }
   ],
   "source": [
    "region_cost = medical.groupby('region').charges.mean().reset_index()\n",
    "print(\"The average medical insurance cost per region is as followed: \")\n",
    "print(region_cost)"
   ]
  },
  {
   "cell_type": "code",
   "execution_count": 20,
   "id": "99025651",
   "metadata": {},
   "outputs": [
    {
     "name": "stdout",
     "output_type": "stream",
     "text": [
      "The average medical insurance cost for the Northeast by gender is as followed: \n",
      "      sex       charges\n",
      "0  female  12953.203151\n",
      "1    male  13854.005374\n",
      "The average medical insurance cost for the Northwest by gender is as followed: \n",
      "      sex       charges\n",
      "0  female  12479.870397\n",
      "1    male  12354.119575\n",
      "The average medical insurance cost for the Southeast by gender is as followed: \n",
      "      sex       charges\n",
      "0  female  13499.669243\n",
      "1    male  15879.617173\n",
      "The average medical insurance cost for the Southwest by gender is as followed: \n",
      "      sex       charges\n",
      "0  female  11274.411264\n",
      "1    male  13412.883576\n"
     ]
    }
   ],
   "source": [
    "ne_by_gender = northeast_df.groupby('sex').charges.mean().reset_index()\n",
    "print(\"The average medical insurance cost for the Northeast by gender is as followed: \")\n",
    "print(ne_by_gender)\n",
    "nw_by_gender = northwest_df.groupby('sex').charges.mean().reset_index()\n",
    "print(\"The average medical insurance cost for the Northwest by gender is as followed: \")\n",
    "print(nw_by_gender)\n",
    "se_by_gender = southeast_df.groupby('sex').charges.mean().reset_index()\n",
    "print(\"The average medical insurance cost for the Southeast by gender is as followed: \")\n",
    "print(se_by_gender)\n",
    "sw_by_gender = southwest_df.groupby('sex').charges.mean().reset_index()\n",
    "print(\"The average medical insurance cost for the Southwest by gender is as followed: \")\n",
    "print(sw_by_gender)"
   ]
  },
  {
   "cell_type": "code",
   "execution_count": 21,
   "id": "25aa9639",
   "metadata": {},
   "outputs": [
    {
     "name": "stdout",
     "output_type": "stream",
     "text": [
      "   children       charges\n",
      "0         0  12365.975602\n",
      "1         1  12731.171832\n",
      "2         2  15073.563734\n",
      "3         3  15355.318367\n",
      "4         4  13850.656311\n",
      "5         5   8786.035247\n"
     ]
    }
   ],
   "source": [
    "cost_by_child = medical.groupby('children').charges.mean().reset_index()\n",
    "#cost_by_child_region = medical.groupby(['children', 'region']).charges.mean().reset_index()\n",
    "print(cost_by_child)\n",
    "#print(cost_by_child_region)"
   ]
  },
  {
   "cell_type": "code",
   "execution_count": 22,
   "id": "1267136e",
   "metadata": {},
   "outputs": [
    {
     "name": "stdout",
     "output_type": "stream",
     "text": [
      "The average medical insurance cost for the Northeast by number of children is as followed: \n",
      "   children       charges\n",
      "0         0  11626.462658\n",
      "1         1  16310.206403\n",
      "2         2  13615.152722\n",
      "3         3  14409.913296\n",
      "4         4  14485.193120\n",
      "5         5   6978.973483\n",
      "The average medical insurance cost for the Northwest by number of children is as followed: \n",
      "   children       charges\n",
      "0         0  11324.370919\n",
      "1         1  10230.256309\n",
      "2         2  13464.314687\n",
      "3         3  17786.160672\n",
      "4         4  11347.018725\n",
      "5         5   8965.795750\n",
      "The average medical insurance cost for the Southeast by number of children is as followed: \n",
      "   children       charges\n",
      "0         0  14309.868378\n",
      "1         1  13687.041971\n",
      "2         2  15728.470623\n",
      "3         3  18449.846015\n",
      "4         4  14451.023972\n",
      "5         5  10115.441542\n",
      "The average medical insurance cost for the Southwest by number of children is as followed: \n",
      "   children       charges\n",
      "0         0  11938.504986\n",
      "1         1  10406.484953\n",
      "2         2  17483.485559\n",
      "3         3  10402.442259\n",
      "4         4  14933.260533\n",
      "5         5   8444.158625\n"
     ]
    }
   ],
   "source": [
    "ne_by_child = northeast_df.groupby('children').charges.mean().reset_index()\n",
    "print(\"The average medical insurance cost for the Northeast by number of children is as followed: \")\n",
    "print(ne_by_child)\n",
    "nw_by_child = northwest_df.groupby('children').charges.mean().reset_index()\n",
    "print(\"The average medical insurance cost for the Northwest by number of children is as followed: \")\n",
    "print(nw_by_child)\n",
    "se_by_child = southeast_df.groupby('children').charges.mean().reset_index()\n",
    "print(\"The average medical insurance cost for the Southeast by number of children is as followed: \")\n",
    "print(se_by_child)\n",
    "sw_by_child = southwest_df.groupby('children').charges.mean().reset_index()\n",
    "print(\"The average medical insurance cost for the Southwest by number of children is as followed: \")\n",
    "print(sw_by_child)"
   ]
  }
 ],
 "metadata": {
  "kernelspec": {
   "display_name": "Python 3 (ipykernel)",
   "language": "python",
   "name": "python3"
  },
  "language_info": {
   "codemirror_mode": {
    "name": "ipython",
    "version": 3
   },
   "file_extension": ".py",
   "mimetype": "text/x-python",
   "name": "python",
   "nbconvert_exporter": "python",
   "pygments_lexer": "ipython3",
   "version": "3.9.5"
  }
 },
 "nbformat": 4,
 "nbformat_minor": 5
}
